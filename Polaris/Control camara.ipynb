{
 "cells": [
  {
   "cell_type": "code",
   "execution_count": null,
   "id": "monthly-friend",
   "metadata": {},
   "outputs": [],
   "source": [
    "import spotipy\n",
    "from spotipy.oauth2 import SpotifyOAuth\n",
    "\n",
    "import picamera\n",
    "from picamera import array\n",
    "from picamera.array import PiMotionArray\n",
    "import numpy as np\n",
    "\n",
    "# Se crea el objeto Spotify\n",
    "sp = spotipy.Spotify(auth_manager=SpotifyOAuth(client_id=\"XXXXXXXXXXXXXXXXXXXXXXXXXXXXXXXX\",\n",
    "                                    client_secret=\"XXXXXXXXXXXXXXXXXXXXXXXXXXXXXXXX\",\n",
    "                                    redirect_uri=\"http://polaris/callback\",\n",
    "                                    scope=\"user-read-private user-read-playback-state user-modify-playback-state\"))\n",
    "# Configuracion camara\n",
    "WIDTH = 640\n",
    "HEIGHT = 480\n",
    "FRAMERATE = 24\n",
    "\n",
    "# Se crea el objeto camara\n",
    "camera = picamera.PiCamera()\n",
    "camera.resolution = (WIDTH, HEIGHT)\n",
    "camera.framerate = FRAMERATE\n",
    "\n",
    "# Se definen las constantes necesarias para los motion vectors\n",
    "max_flow = 640 / 16.0 * 480 / 16.0 * 2**7\n",
    "flow_scale = 0.165\n",
    "flow_coeff = 100 * flow_scale / max_flow\n",
    "\n",
    "while True:    \n",
    "    output = picamera.array.PiMotionArray(camera)\n",
    "    # Se comienza a grabar\n",
    "    camera.start_recording('/dev/null', format='h264', motion_output=output)\n",
    "    # Wait de 1 segundos\n",
    "    camera.wait_recording(1)\n",
    "    # Se termina la grabacion\n",
    "    camera.stop_recording()\n",
    "    # Se calculan los vectores de movimiento\n",
    "    y_motion = np.sum(output.array['y']) * flow_coeff\n",
    "    if  y_motion > 0 and y_motion > 5:\n",
    "        print(\"Izquierda \", y_motion)\n",
    "        sp.previous_track()\n",
    "    if y_motion < 0 and y_motion < -5:\n",
    "        print(\"Derecha \", y_motion)\n",
    "        sp.next_track()"
   ]
  },
  {
   "cell_type": "code",
   "execution_count": null,
   "id": "incomplete-replication",
   "metadata": {},
   "outputs": [],
   "source": []
  }
 ],
 "metadata": {
  "kernelspec": {
   "display_name": "Python 3",
   "language": "python",
   "name": "python3"
  },
  "language_info": {
   "codemirror_mode": {
    "name": "ipython",
    "version": 3
   },
   "file_extension": ".py",
   "mimetype": "text/x-python",
   "name": "python",
   "nbconvert_exporter": "python",
   "pygments_lexer": "ipython3",
   "version": "3.7.0"
  }
 },
 "nbformat": 4,
 "nbformat_minor": 5
}
